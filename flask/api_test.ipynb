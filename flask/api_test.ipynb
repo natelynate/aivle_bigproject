{
 "cells": [
  {
   "cell_type": "code",
   "execution_count": null,
   "metadata": {},
   "outputs": [
    {
     "ename": "",
     "evalue": "",
     "output_type": "error",
     "traceback": [
      "\u001b[1;31mRunning cells with 'GazeTracking' requires the ipykernel package.\n",
      "\u001b[1;31mRun the following command to install 'ipykernel' into the Python environment. \n",
      "\u001b[1;31mCommand: 'conda install -n GazeTracking ipykernel --update-deps --force-reinstall'"
     ]
    }
   ],
   "source": [
    "from flask import Flask, request, redirect\n",
    "import tensorflow as tf\n",
    "from PIL import Image\n",
    "import json\n",
    "import base64\n",
    "import cv2\n",
    "import numpy as np \n",
    "import matplotlib.pyplot as plt\n",
    "from gaze_tracking import GazeTracking\n",
    "import dlib\n",
    "\n",
    "# pip install dlib"
   ]
  },
  {
   "cell_type": "code",
   "execution_count": 110,
   "metadata": {},
   "outputs": [
    {
     "name": "stdout",
     "output_type": "stream",
     "text": [
      "{\"data\":{\"anger\":0.6574041247367859,\"disgust\":2.0448159432362445e-07,\"fear\":0.30853694677352905,\"sadness\":0.011164533905684948,\"surprise\":0.0043701911345124245}}\n",
      "\n"
     ]
    }
   ],
   "source": [
    "image = cv2.imread('hs_default4.jpg')\n",
    "# Convert captured image to JPG\n",
    "string = base64.b64encode(cv2.imencode('.jpg', image)[1]).decode()\n",
    "\n",
    "headers = {'Content-Type':'application/json'}\n",
    "data = {'baseline_img':string}\n",
    "response = requests.post('http://127.0.0.1:105/img_send', headers=headers, data=json.dumps(data))\n",
    "print(response.text)"
   ]
  },
  {
   "cell_type": "code",
   "execution_count": null,
   "metadata": {},
   "outputs": [],
   "source": [
    "video_file = 'WIN_20231222_11_10_25_Pro'\n",
    "    gaze = GazeTracking()\n",
    "    video = cv2.VideoCapture(video_file)"
   ]
  }
 ],
 "metadata": {
  "kernelspec": {
   "display_name": "webAppPrj",
   "language": "python",
   "name": "python3"
  },
  "language_info": {
   "codemirror_mode": {
    "name": "ipython",
    "version": 3
   },
   "file_extension": ".py",
   "mimetype": "text/x-python",
   "name": "python",
   "nbconvert_exporter": "python",
   "pygments_lexer": "ipython3",
   "version": "3.7.12"
  }
 },
 "nbformat": 4,
 "nbformat_minor": 2
}
