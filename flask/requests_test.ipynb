{
 "cells": [
  {
   "cell_type": "code",
   "execution_count": 1,
   "metadata": {},
   "outputs": [
    {
     "name": "stdout",
     "output_type": "stream",
     "text": [
      "WARNING:tensorflow:From c:\\Users\\wheat\\anaconda3\\envs\\webAppPrj\\lib\\site-packages\\keras\\src\\losses.py:2976: The name tf.losses.sparse_softmax_cross_entropy is deprecated. Please use tf.compat.v1.losses.sparse_softmax_cross_entropy instead.\n",
      "\n"
     ]
    }
   ],
   "source": [
    "from flask import Flask, request, redirect\n",
    "import tensorflow as tf\n",
    "from PIL import Image\n",
    "import json\n",
    "import requests\n",
    "import base64\n",
    "import cv2\n",
    "import numpy as np \n",
    "import matplotlib.pyplot as plt\n",
    "# from gaze_tracking import GazeTracking\n",
    "# import dlib\n",
    "\n",
    "# pip install dlib"
   ]
  },
  {
   "cell_type": "code",
   "execution_count": 5,
   "metadata": {},
   "outputs": [
    {
     "name": "stdout",
     "output_type": "stream",
     "text": [
      "{\"data\":{\"anger\":0.657403826713562,\"disgust\":2.0448264592687337e-07,\"fear\":0.3085371255874634,\"sadness\":0.011164551600813866,\"surprise\":0.0043702018447220325}}\n",
      "\n"
     ]
    }
   ],
   "source": [
    "image = cv2.imread('./samples/hs_default4.jpg')\n",
    "# Convert captured image to JPG\n",
    "string = base64.b64encode(cv2.imencode('.jpg', image)[1]).decode()\n",
    "\n",
    "headers = {'Content-Type':'application/json'}\n",
    "data = {'baseline_img':string}\n",
    "response = requests.post('http://127.0.0.1:105/api/image_upload', headers=headers, data=json.dumps(data))\n",
    "print(response.text)"
   ]
  },
  {
   "cell_type": "code",
   "execution_count": null,
   "metadata": {},
   "outputs": [],
   "source": [
    "headers = {'Content-Type':'application/json'}\n",
    "data = {'video':string,\n",
    "        'worktype':'singleframe'}\n",
    "response = requests.post('http://127.0.0.1:105/api/webm_send', headers=headers, data=json.dumps(data))\n",
    "print(response.text)"
   ]
  },
  {
   "cell_type": "code",
   "execution_count": 6,
   "metadata": {},
   "outputs": [
    {
     "name": "stdout",
     "output_type": "stream",
     "text": [
      "< cv2.VideoCapture 000001FAE8F7A950>\n"
     ]
    }
   ],
   "source": []
  }
 ],
 "metadata": {
  "kernelspec": {
   "display_name": "webAppPrj",
   "language": "python",
   "name": "python3"
  },
  "language_info": {
   "codemirror_mode": {
    "name": "ipython",
    "version": 3
   },
   "file_extension": ".py",
   "mimetype": "text/x-python",
   "name": "python",
   "nbconvert_exporter": "python",
   "pygments_lexer": "ipython3",
   "version": "3.10.12"
  }
 },
 "nbformat": 4,
 "nbformat_minor": 2
}
